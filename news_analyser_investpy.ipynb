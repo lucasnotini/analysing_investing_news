{
  "nbformat": 4,
  "nbformat_minor": 0,
  "metadata": {
    "colab": {
      "provenance": []
    },
    "kernelspec": {
      "name": "python3",
      "display_name": "Python 3"
    },
    "language_info": {
      "name": "python"
    }
  },
  "cells": [
    {
      "cell_type": "code",
      "execution_count": null,
      "metadata": {
        "id": "ZRo2nw3G4wwP"
      },
      "outputs": [],
      "source": []
    },
    {
      "cell_type": "code",
      "source": [
        "pip install investpy"
      ],
      "metadata": {
        "colab": {
          "base_uri": "https://localhost:8080/"
        },
        "id": "b1Hf5Fft5Ci5",
        "outputId": "546d8e02-e51c-48f4-a0aa-8d713eb850b1"
      },
      "execution_count": 3,
      "outputs": [
        {
          "output_type": "stream",
          "name": "stdout",
          "text": [
            "Requirement already satisfied: investpy in /usr/local/lib/python3.10/dist-packages (1.0.8)\n",
            "Requirement already satisfied: Unidecode>=1.1.1 in /usr/local/lib/python3.10/dist-packages (from investpy) (1.3.8)\n",
            "Requirement already satisfied: setuptools>=41.2.0 in /usr/local/lib/python3.10/dist-packages (from investpy) (67.7.2)\n",
            "Requirement already satisfied: numpy>=1.17.2 in /usr/local/lib/python3.10/dist-packages (from investpy) (1.23.5)\n",
            "Requirement already satisfied: pandas>=0.25.1 in /usr/local/lib/python3.10/dist-packages (from investpy) (1.5.3)\n",
            "Requirement already satisfied: lxml>=4.4.1 in /usr/local/lib/python3.10/dist-packages (from investpy) (4.9.4)\n",
            "Requirement already satisfied: requests>=2.22.0 in /usr/local/lib/python3.10/dist-packages (from investpy) (2.31.0)\n",
            "Requirement already satisfied: pytz>=2019.3 in /usr/local/lib/python3.10/dist-packages (from investpy) (2023.3.post1)\n",
            "Requirement already satisfied: python-dateutil>=2.8.1 in /usr/local/lib/python3.10/dist-packages (from pandas>=0.25.1->investpy) (2.8.2)\n",
            "Requirement already satisfied: charset-normalizer<4,>=2 in /usr/local/lib/python3.10/dist-packages (from requests>=2.22.0->investpy) (3.3.2)\n",
            "Requirement already satisfied: idna<4,>=2.5 in /usr/local/lib/python3.10/dist-packages (from requests>=2.22.0->investpy) (3.6)\n",
            "Requirement already satisfied: urllib3<3,>=1.21.1 in /usr/local/lib/python3.10/dist-packages (from requests>=2.22.0->investpy) (2.0.7)\n",
            "Requirement already satisfied: certifi>=2017.4.17 in /usr/local/lib/python3.10/dist-packages (from requests>=2.22.0->investpy) (2023.11.17)\n",
            "Requirement already satisfied: six>=1.5 in /usr/local/lib/python3.10/dist-packages (from python-dateutil>=2.8.1->pandas>=0.25.1->investpy) (1.16.0)\n"
          ]
        }
      ]
    },
    {
      "cell_type": "code",
      "source": [
        "import investpy"
      ],
      "metadata": {
        "id": "V-uAIYj05vmU"
      },
      "execution_count": 16,
      "outputs": []
    },
    {
      "cell_type": "code",
      "source": [
        "df = investpy.economic_calendar(time_zone=\"GMT -3:00\",from_date='01/01/2014', to_date='01/01/2024', countries=['brazil', 'united kingdom', 'england', 'united states', 'euro zone'])\n",
        "\n",
        "# df[(df['importance'] == 'high') ]\n",
        "df[df['event'].str.contains('Nonfarm Payrolls')]\n",
        "# df"
      ],
      "metadata": {
        "id": "u0rBa6Vo5Ked"
      },
      "execution_count": null,
      "outputs": []
    },
    {
      "cell_type": "code",
      "source": [],
      "metadata": {
        "id": "Jts15Txq5jAG"
      },
      "execution_count": null,
      "outputs": []
    }
  ]
}